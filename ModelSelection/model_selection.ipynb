{
  "cells": [
    {
      "cell_type": "markdown",
      "id": "58d39c7e",
      "metadata": {
        "id": "58d39c7e"
      },
      "source": [
        "# Used Cars Price Prediction"
      ]
    },
    {
      "cell_type": "markdown",
      "id": "ae5d3364",
      "metadata": {
        "id": "ae5d3364"
      },
      "source": [
        "### Import Packages"
      ]
    },
    {
      "cell_type": "code",
      "execution_count": null,
      "id": "549ab86a",
      "metadata": {
        "id": "549ab86a"
      },
      "outputs": [],
      "source": [
        "import numpy as np\n",
        "import pandas as pd\n",
        "import matplotlib.pyplot as plt\n",
        "\n",
        "from sklearn.model_selection import train_test_split, KFold, cross_val_score, GridSearchCV, RandomizedSearchCV\n",
        "from sklearn.tree import DecisionTreeRegressor\n",
        "from sklearn.ensemble import RandomForestRegressor, GradientBoostingRegressor\n",
        "from sklearn.metrics import mean_absolute_error, mean_squared_error, r2_score\n",
        "from xgboost import XGBRegressor\n",
        "from lightgbm import LGBMRegressor"
      ]
    },
    {
      "cell_type": "markdown",
      "id": "cfeb79e3",
      "metadata": {
        "id": "cfeb79e3"
      },
      "source": [
        "### Import Feature-Engineered Dataset"
      ]
    },
    {
      "cell_type": "code",
      "execution_count": null,
      "id": "8bbec459",
      "metadata": {
        "colab": {
          "base_uri": "https://localhost:8080/",
          "height": 273
        },
        "id": "8bbec459",
        "outputId": "d8827c98-a551-4c02-80ca-be838e8d9b6c"
      },
      "outputs": [
        {
          "data": {
            "application/vnd.google.colaboratory.intrinsic+json": {
              "type": "dataframe",
              "variable_name": "df"
            },
            "text/html": [
              "\n",
              "  <div id=\"df-610e6a9a-d069-4743-89b9-d5552d25f65c\" class=\"colab-df-container\">\n",
              "    <div>\n",
              "<style scoped>\n",
              "    .dataframe tbody tr th:only-of-type {\n",
              "        vertical-align: middle;\n",
              "    }\n",
              "\n",
              "    .dataframe tbody tr th {\n",
              "        vertical-align: top;\n",
              "    }\n",
              "\n",
              "    .dataframe thead th {\n",
              "        text-align: right;\n",
              "    }\n",
              "</style>\n",
              "<table border=\"1\" class=\"dataframe\">\n",
              "  <thead>\n",
              "    <tr style=\"text-align: right;\">\n",
              "      <th></th>\n",
              "      <th>PC1</th>\n",
              "      <th>PC2</th>\n",
              "      <th>PC3</th>\n",
              "      <th>PC4</th>\n",
              "      <th>PC5</th>\n",
              "      <th>PC6</th>\n",
              "      <th>PC7</th>\n",
              "      <th>id</th>\n",
              "      <th>price</th>\n",
              "      <th>no_of_owners</th>\n",
              "      <th>...</th>\n",
              "      <th>fuel_type_petrol</th>\n",
              "      <th>fuel_type_petrolelectric</th>\n",
              "      <th>transmission_manual</th>\n",
              "      <th>vehicle_type_luxury sedan</th>\n",
              "      <th>vehicle_type_midsized sedan</th>\n",
              "      <th>vehicle_type_mpv</th>\n",
              "      <th>vehicle_type_others</th>\n",
              "      <th>vehicle_type_sports car</th>\n",
              "      <th>vehicle_type_stationwagon</th>\n",
              "      <th>vehicle_type_suv</th>\n",
              "    </tr>\n",
              "  </thead>\n",
              "  <tbody>\n",
              "    <tr>\n",
              "      <th>0</th>\n",
              "      <td>4.128331</td>\n",
              "      <td>4.299768</td>\n",
              "      <td>2.545764</td>\n",
              "      <td>-2.822400</td>\n",
              "      <td>0.391710</td>\n",
              "      <td>-1.837466</td>\n",
              "      <td>0.115392</td>\n",
              "      <td>1353648</td>\n",
              "      <td>118800</td>\n",
              "      <td>4</td>\n",
              "      <td>...</td>\n",
              "      <td>True</td>\n",
              "      <td>False</td>\n",
              "      <td>False</td>\n",
              "      <td>False</td>\n",
              "      <td>False</td>\n",
              "      <td>False</td>\n",
              "      <td>False</td>\n",
              "      <td>True</td>\n",
              "      <td>False</td>\n",
              "      <td>False</td>\n",
              "    </tr>\n",
              "    <tr>\n",
              "      <th>1</th>\n",
              "      <td>5.294561</td>\n",
              "      <td>2.511898</td>\n",
              "      <td>4.016187</td>\n",
              "      <td>0.654602</td>\n",
              "      <td>-0.841858</td>\n",
              "      <td>-1.274461</td>\n",
              "      <td>-1.101813</td>\n",
              "      <td>1371140</td>\n",
              "      <td>238800</td>\n",
              "      <td>6</td>\n",
              "      <td>...</td>\n",
              "      <td>True</td>\n",
              "      <td>False</td>\n",
              "      <td>False</td>\n",
              "      <td>False</td>\n",
              "      <td>False</td>\n",
              "      <td>False</td>\n",
              "      <td>False</td>\n",
              "      <td>True</td>\n",
              "      <td>False</td>\n",
              "      <td>False</td>\n",
              "    </tr>\n",
              "    <tr>\n",
              "      <th>2</th>\n",
              "      <td>3.962622</td>\n",
              "      <td>2.883626</td>\n",
              "      <td>2.225373</td>\n",
              "      <td>-2.328902</td>\n",
              "      <td>-0.536783</td>\n",
              "      <td>-2.316213</td>\n",
              "      <td>-0.514094</td>\n",
              "      <td>1386320</td>\n",
              "      <td>133888</td>\n",
              "      <td>5</td>\n",
              "      <td>...</td>\n",
              "      <td>True</td>\n",
              "      <td>False</td>\n",
              "      <td>False</td>\n",
              "      <td>False</td>\n",
              "      <td>False</td>\n",
              "      <td>False</td>\n",
              "      <td>False</td>\n",
              "      <td>True</td>\n",
              "      <td>False</td>\n",
              "      <td>False</td>\n",
              "    </tr>\n",
              "    <tr>\n",
              "      <th>3</th>\n",
              "      <td>1.362260</td>\n",
              "      <td>1.072161</td>\n",
              "      <td>-0.456550</td>\n",
              "      <td>-0.861446</td>\n",
              "      <td>0.749817</td>\n",
              "      <td>0.167105</td>\n",
              "      <td>-0.094244</td>\n",
              "      <td>1377681</td>\n",
              "      <td>136800</td>\n",
              "      <td>2</td>\n",
              "      <td>...</td>\n",
              "      <td>True</td>\n",
              "      <td>False</td>\n",
              "      <td>False</td>\n",
              "      <td>False</td>\n",
              "      <td>False</td>\n",
              "      <td>False</td>\n",
              "      <td>False</td>\n",
              "      <td>True</td>\n",
              "      <td>False</td>\n",
              "      <td>False</td>\n",
              "    </tr>\n",
              "    <tr>\n",
              "      <th>4</th>\n",
              "      <td>2.938016</td>\n",
              "      <td>1.247148</td>\n",
              "      <td>-0.670115</td>\n",
              "      <td>-0.727379</td>\n",
              "      <td>0.506640</td>\n",
              "      <td>-0.783463</td>\n",
              "      <td>-0.715036</td>\n",
              "      <td>1220824</td>\n",
              "      <td>181800</td>\n",
              "      <td>6</td>\n",
              "      <td>...</td>\n",
              "      <td>True</td>\n",
              "      <td>False</td>\n",
              "      <td>False</td>\n",
              "      <td>False</td>\n",
              "      <td>False</td>\n",
              "      <td>False</td>\n",
              "      <td>False</td>\n",
              "      <td>True</td>\n",
              "      <td>False</td>\n",
              "      <td>False</td>\n",
              "    </tr>\n",
              "  </tbody>\n",
              "</table>\n",
              "<p>5 rows × 475 columns</p>\n",
              "</div>\n",
              "    <div class=\"colab-df-buttons\">\n",
              "\n",
              "  <div class=\"colab-df-container\">\n",
              "    <button class=\"colab-df-convert\" onclick=\"convertToInteractive('df-610e6a9a-d069-4743-89b9-d5552d25f65c')\"\n",
              "            title=\"Convert this dataframe to an interactive table.\"\n",
              "            style=\"display:none;\">\n",
              "\n",
              "  <svg xmlns=\"http://www.w3.org/2000/svg\" height=\"24px\" viewBox=\"0 -960 960 960\">\n",
              "    <path d=\"M120-120v-720h720v720H120Zm60-500h600v-160H180v160Zm220 220h160v-160H400v160Zm0 220h160v-160H400v160ZM180-400h160v-160H180v160Zm440 0h160v-160H620v160ZM180-180h160v-160H180v160Zm440 0h160v-160H620v160Z\"/>\n",
              "  </svg>\n",
              "    </button>\n",
              "\n",
              "  <style>\n",
              "    .colab-df-container {\n",
              "      display:flex;\n",
              "      gap: 12px;\n",
              "    }\n",
              "\n",
              "    .colab-df-convert {\n",
              "      background-color: #E8F0FE;\n",
              "      border: none;\n",
              "      border-radius: 50%;\n",
              "      cursor: pointer;\n",
              "      display: none;\n",
              "      fill: #1967D2;\n",
              "      height: 32px;\n",
              "      padding: 0 0 0 0;\n",
              "      width: 32px;\n",
              "    }\n",
              "\n",
              "    .colab-df-convert:hover {\n",
              "      background-color: #E2EBFA;\n",
              "      box-shadow: 0px 1px 2px rgba(60, 64, 67, 0.3), 0px 1px 3px 1px rgba(60, 64, 67, 0.15);\n",
              "      fill: #174EA6;\n",
              "    }\n",
              "\n",
              "    .colab-df-buttons div {\n",
              "      margin-bottom: 4px;\n",
              "    }\n",
              "\n",
              "    [theme=dark] .colab-df-convert {\n",
              "      background-color: #3B4455;\n",
              "      fill: #D2E3FC;\n",
              "    }\n",
              "\n",
              "    [theme=dark] .colab-df-convert:hover {\n",
              "      background-color: #434B5C;\n",
              "      box-shadow: 0px 1px 3px 1px rgba(0, 0, 0, 0.15);\n",
              "      filter: drop-shadow(0px 1px 2px rgba(0, 0, 0, 0.3));\n",
              "      fill: #FFFFFF;\n",
              "    }\n",
              "  </style>\n",
              "\n",
              "    <script>\n",
              "      const buttonEl =\n",
              "        document.querySelector('#df-610e6a9a-d069-4743-89b9-d5552d25f65c button.colab-df-convert');\n",
              "      buttonEl.style.display =\n",
              "        google.colab.kernel.accessAllowed ? 'block' : 'none';\n",
              "\n",
              "      async function convertToInteractive(key) {\n",
              "        const element = document.querySelector('#df-610e6a9a-d069-4743-89b9-d5552d25f65c');\n",
              "        const dataTable =\n",
              "          await google.colab.kernel.invokeFunction('convertToInteractive',\n",
              "                                                    [key], {});\n",
              "        if (!dataTable) return;\n",
              "\n",
              "        const docLinkHtml = 'Like what you see? Visit the ' +\n",
              "          '<a target=\"_blank\" href=https://colab.research.google.com/notebooks/data_table.ipynb>data table notebook</a>'\n",
              "          + ' to learn more about interactive tables.';\n",
              "        element.innerHTML = '';\n",
              "        dataTable['output_type'] = 'display_data';\n",
              "        await google.colab.output.renderOutput(dataTable, element);\n",
              "        const docLink = document.createElement('div');\n",
              "        docLink.innerHTML = docLinkHtml;\n",
              "        element.appendChild(docLink);\n",
              "      }\n",
              "    </script>\n",
              "  </div>\n",
              "\n",
              "\n",
              "    <div id=\"df-e3124c7b-1232-4203-9a42-4016550d1dcc\">\n",
              "      <button class=\"colab-df-quickchart\" onclick=\"quickchart('df-e3124c7b-1232-4203-9a42-4016550d1dcc')\"\n",
              "                title=\"Suggest charts\"\n",
              "                style=\"display:none;\">\n",
              "\n",
              "<svg xmlns=\"http://www.w3.org/2000/svg\" height=\"24px\"viewBox=\"0 0 24 24\"\n",
              "     width=\"24px\">\n",
              "    <g>\n",
              "        <path d=\"M19 3H5c-1.1 0-2 .9-2 2v14c0 1.1.9 2 2 2h14c1.1 0 2-.9 2-2V5c0-1.1-.9-2-2-2zM9 17H7v-7h2v7zm4 0h-2V7h2v10zm4 0h-2v-4h2v4z\"/>\n",
              "    </g>\n",
              "</svg>\n",
              "      </button>\n",
              "\n",
              "<style>\n",
              "  .colab-df-quickchart {\n",
              "      --bg-color: #E8F0FE;\n",
              "      --fill-color: #1967D2;\n",
              "      --hover-bg-color: #E2EBFA;\n",
              "      --hover-fill-color: #174EA6;\n",
              "      --disabled-fill-color: #AAA;\n",
              "      --disabled-bg-color: #DDD;\n",
              "  }\n",
              "\n",
              "  [theme=dark] .colab-df-quickchart {\n",
              "      --bg-color: #3B4455;\n",
              "      --fill-color: #D2E3FC;\n",
              "      --hover-bg-color: #434B5C;\n",
              "      --hover-fill-color: #FFFFFF;\n",
              "      --disabled-bg-color: #3B4455;\n",
              "      --disabled-fill-color: #666;\n",
              "  }\n",
              "\n",
              "  .colab-df-quickchart {\n",
              "    background-color: var(--bg-color);\n",
              "    border: none;\n",
              "    border-radius: 50%;\n",
              "    cursor: pointer;\n",
              "    display: none;\n",
              "    fill: var(--fill-color);\n",
              "    height: 32px;\n",
              "    padding: 0;\n",
              "    width: 32px;\n",
              "  }\n",
              "\n",
              "  .colab-df-quickchart:hover {\n",
              "    background-color: var(--hover-bg-color);\n",
              "    box-shadow: 0 1px 2px rgba(60, 64, 67, 0.3), 0 1px 3px 1px rgba(60, 64, 67, 0.15);\n",
              "    fill: var(--button-hover-fill-color);\n",
              "  }\n",
              "\n",
              "  .colab-df-quickchart-complete:disabled,\n",
              "  .colab-df-quickchart-complete:disabled:hover {\n",
              "    background-color: var(--disabled-bg-color);\n",
              "    fill: var(--disabled-fill-color);\n",
              "    box-shadow: none;\n",
              "  }\n",
              "\n",
              "  .colab-df-spinner {\n",
              "    border: 2px solid var(--fill-color);\n",
              "    border-color: transparent;\n",
              "    border-bottom-color: var(--fill-color);\n",
              "    animation:\n",
              "      spin 1s steps(1) infinite;\n",
              "  }\n",
              "\n",
              "  @keyframes spin {\n",
              "    0% {\n",
              "      border-color: transparent;\n",
              "      border-bottom-color: var(--fill-color);\n",
              "      border-left-color: var(--fill-color);\n",
              "    }\n",
              "    20% {\n",
              "      border-color: transparent;\n",
              "      border-left-color: var(--fill-color);\n",
              "      border-top-color: var(--fill-color);\n",
              "    }\n",
              "    30% {\n",
              "      border-color: transparent;\n",
              "      border-left-color: var(--fill-color);\n",
              "      border-top-color: var(--fill-color);\n",
              "      border-right-color: var(--fill-color);\n",
              "    }\n",
              "    40% {\n",
              "      border-color: transparent;\n",
              "      border-right-color: var(--fill-color);\n",
              "      border-top-color: var(--fill-color);\n",
              "    }\n",
              "    60% {\n",
              "      border-color: transparent;\n",
              "      border-right-color: var(--fill-color);\n",
              "    }\n",
              "    80% {\n",
              "      border-color: transparent;\n",
              "      border-right-color: var(--fill-color);\n",
              "      border-bottom-color: var(--fill-color);\n",
              "    }\n",
              "    90% {\n",
              "      border-color: transparent;\n",
              "      border-bottom-color: var(--fill-color);\n",
              "    }\n",
              "  }\n",
              "</style>\n",
              "\n",
              "      <script>\n",
              "        async function quickchart(key) {\n",
              "          const quickchartButtonEl =\n",
              "            document.querySelector('#' + key + ' button');\n",
              "          quickchartButtonEl.disabled = true;  // To prevent multiple clicks.\n",
              "          quickchartButtonEl.classList.add('colab-df-spinner');\n",
              "          try {\n",
              "            const charts = await google.colab.kernel.invokeFunction(\n",
              "                'suggestCharts', [key], {});\n",
              "          } catch (error) {\n",
              "            console.error('Error during call to suggestCharts:', error);\n",
              "          }\n",
              "          quickchartButtonEl.classList.remove('colab-df-spinner');\n",
              "          quickchartButtonEl.classList.add('colab-df-quickchart-complete');\n",
              "        }\n",
              "        (() => {\n",
              "          let quickchartButtonEl =\n",
              "            document.querySelector('#df-e3124c7b-1232-4203-9a42-4016550d1dcc button');\n",
              "          quickchartButtonEl.style.display =\n",
              "            google.colab.kernel.accessAllowed ? 'block' : 'none';\n",
              "        })();\n",
              "      </script>\n",
              "    </div>\n",
              "\n",
              "    </div>\n",
              "  </div>\n"
            ],
            "text/plain": [
              "        PC1       PC2       PC3       PC4       PC5       PC6       PC7  \\\n",
              "0  4.128331  4.299768  2.545764 -2.822400  0.391710 -1.837466  0.115392   \n",
              "1  5.294561  2.511898  4.016187  0.654602 -0.841858 -1.274461 -1.101813   \n",
              "2  3.962622  2.883626  2.225373 -2.328902 -0.536783 -2.316213 -0.514094   \n",
              "3  1.362260  1.072161 -0.456550 -0.861446  0.749817  0.167105 -0.094244   \n",
              "4  2.938016  1.247148 -0.670115 -0.727379  0.506640 -0.783463 -0.715036   \n",
              "\n",
              "        id   price  no_of_owners  ...  fuel_type_petrol  \\\n",
              "0  1353648  118800             4  ...              True   \n",
              "1  1371140  238800             6  ...              True   \n",
              "2  1386320  133888             5  ...              True   \n",
              "3  1377681  136800             2  ...              True   \n",
              "4  1220824  181800             6  ...              True   \n",
              "\n",
              "   fuel_type_petrolelectric  transmission_manual  vehicle_type_luxury sedan  \\\n",
              "0                     False                False                      False   \n",
              "1                     False                False                      False   \n",
              "2                     False                False                      False   \n",
              "3                     False                False                      False   \n",
              "4                     False                False                      False   \n",
              "\n",
              "   vehicle_type_midsized sedan  vehicle_type_mpv  vehicle_type_others  \\\n",
              "0                        False             False                False   \n",
              "1                        False             False                False   \n",
              "2                        False             False                False   \n",
              "3                        False             False                False   \n",
              "4                        False             False                False   \n",
              "\n",
              "   vehicle_type_sports car  vehicle_type_stationwagon  vehicle_type_suv  \n",
              "0                     True                      False             False  \n",
              "1                     True                      False             False  \n",
              "2                     True                      False             False  \n",
              "3                     True                      False             False  \n",
              "4                     True                      False             False  \n",
              "\n",
              "[5 rows x 475 columns]"
            ]
          },
          "execution_count": 4,
          "metadata": {},
          "output_type": "execute_result"
        }
      ],
      "source": [
        "df = pd.read_csv(\"feature_engineered_dataset.csv\")\n",
        "df.head()"
      ]
    },
    {
      "cell_type": "markdown",
      "id": "a3d123ef",
      "metadata": {
        "id": "a3d123ef"
      },
      "source": [
        "### Prepare Dataset for Model Training"
      ]
    },
    {
      "cell_type": "code",
      "execution_count": null,
      "id": "f34d0004",
      "metadata": {
        "id": "f34d0004"
      },
      "outputs": [],
      "source": [
        "# Separate features and target\n",
        "X = df.drop(columns=[\"price\"])\n",
        "y = df[\"price\"]\n",
        "\n",
        "# Split off 10% as holdout test set\n",
        "X_train, X_test, y_train, y_test = train_test_split(\n",
        "    X, y, test_size=0.1, random_state=42\n",
        ")\n",
        "\n",
        "# Replace spaces in column names\n",
        "X_train.columns = X_train.columns.str.replace(\" \", \"_\")\n",
        "X_test.columns = X_test.columns.str.replace(\" \", \"_\")\n",
        "\n",
        "# K-fold cross validation config\n",
        "kf = KFold(n_splits=5, shuffle=True, random_state=42)"
      ]
    },
    {
      "cell_type": "markdown",
      "id": "241f209c",
      "metadata": {
        "id": "241f209c"
      },
      "source": [
        "### Evaluation Function"
      ]
    },
    {
      "cell_type": "code",
      "execution_count": null,
      "id": "ad011b99",
      "metadata": {
        "id": "ad011b99"
      },
      "outputs": [],
      "source": [
        "def evaluate_model(model_name, model):\n",
        "    print(f\"\\n🔍 Evaluating: {model_name}\")\n",
        "\n",
        "    metrics = {}\n",
        "    mae_list, mse_list, rmse_list, r2_list = [], [], [], []\n",
        "\n",
        "    for fold, (train_idx, val_idx) in enumerate(kf.split(X_train)):\n",
        "        X_fold_train, X_val = X_train.iloc[train_idx], X_train.iloc[val_idx]\n",
        "        y_fold_train, y_val = y_train.iloc[train_idx], y_train.iloc[val_idx]\n",
        "\n",
        "        model.fit(X_fold_train, y_fold_train)\n",
        "        y_pred = model.predict(X_val)\n",
        "\n",
        "        # Calculate metrics\n",
        "        mae = mean_absolute_error(y_val, y_pred)\n",
        "        mse = mean_squared_error(y_val, y_pred)\n",
        "        rmse = np.sqrt(mse)\n",
        "        r2 = r2_score(y_val, y_pred)\n",
        "\n",
        "        mae_list.append(mae)\n",
        "        mse_list.append(mse)\n",
        "        rmse_list.append(rmse)\n",
        "        r2_list.append(r2)\n",
        "\n",
        "    metrics = {\n",
        "        \"Mean MAE\": np.mean(mae_list),\n",
        "        \"MAE Std\": np.std(mae_list),\n",
        "        \"Mean MSE\": np.mean(mse_list),\n",
        "        \"Mean RMSE\": np.mean(rmse_list),\n",
        "        \"Mean R²\": np.mean(r2_list)\n",
        "    }\n",
        "\n",
        "    print(f\"\\n📊 Cross-Validation Metrics for {model_name}:\")\n",
        "    for key, value in metrics.items():\n",
        "        print(f\"{key:<12}: {value:.2f}\")"
      ]
    },
    {
      "cell_type": "markdown",
      "id": "f33e6156",
      "metadata": {
        "id": "f33e6156"
      },
      "source": [
        "### Baseline Modelling"
      ]
    },
    {
      "cell_type": "code",
      "execution_count": null,
      "id": "eec54be2",
      "metadata": {
        "colab": {
          "background_save": true,
          "base_uri": "https://localhost:8080/"
        },
        "id": "eec54be2",
        "outputId": "efaccfd0-7c32-4ca0-b9bd-0344c17684e4"
      },
      "outputs": [
        {
          "name": "stdout",
          "output_type": "stream",
          "text": [
            "\n",
            "🔍 Evaluating: Decision Tree\n",
            "\n",
            "📊 Cross-Validation Metrics for Decision Tree:\n",
            "Mean MAE    : 22739.70\n",
            "MAE Std     : 567.78\n",
            "Mean MSE    : 5415236495.86\n",
            "Mean RMSE   : 71861.44\n",
            "Mean R²     : 0.88\n",
            "\n",
            "🔍 Evaluating: Random Forest\n",
            "\n",
            "📊 Cross-Validation Metrics for Random Forest:\n",
            "Mean MAE    : 15771.18\n",
            "MAE Std     : 781.65\n",
            "Mean MSE    : 2558732293.08\n",
            "Mean RMSE   : 48229.83\n",
            "Mean R²     : 0.95\n",
            "\n",
            "🔍 Evaluating: Gradient Boosting\n",
            "\n",
            "📊 Cross-Validation Metrics for Gradient Boosting:\n",
            "Mean MAE    : 18106.06\n",
            "MAE Std     : 617.95\n",
            "Mean MSE    : 2362117922.08\n",
            "Mean RMSE   : 46907.08\n",
            "Mean R²     : 0.95\n"
          ]
        }
      ],
      "source": [
        "# Selected Baseline Models\n",
        "baseline_models = {\n",
        "    \"Decision Tree\": DecisionTreeRegressor(random_state=42),\n",
        "    \"Random Forest\": RandomForestRegressor(random_state=42),\n",
        "    \"Gradient Boosting\": GradientBoostingRegressor(random_state=42),\n",
        "}\n",
        "\n",
        "# Evaluate Baseline Models\n",
        "for model_name, model in baseline_models.items():\n",
        "    evaluate_model(model_name, model)"
      ]
    },
    {
      "cell_type": "markdown",
      "id": "7b66b6b5",
      "metadata": {
        "id": "7b66b6b5"
      },
      "source": [
        "### Advanced Modelling"
      ]
    },
    {
      "cell_type": "code",
      "execution_count": null,
      "id": "2e34f4c3",
      "metadata": {
        "colab": {
          "base_uri": "https://localhost:8080/"
        },
        "id": "2e34f4c3",
        "outputId": "d7083465-1ca6-4959-809e-c094529a81e7"
      },
      "outputs": [
        {
          "name": "stdout",
          "output_type": "stream",
          "text": [
            "\n",
            "🔍 Evaluating: XGBoost\n",
            "\n",
            "📊 Cross-Validation Metrics for XGBoost:\n",
            "Mean MAE    : 15239.06\n",
            "MAE Std     : 806.11\n",
            "Mean MSE    : 3049733427.20\n",
            "Mean RMSE   : 52311.00\n",
            "Mean R²     : 0.94\n",
            "\n",
            "🔍 Evaluating: LightGBM\n",
            "[LightGBM] [Info] Auto-choosing col-wise multi-threading, the overhead of testing was 0.040749 seconds.\n",
            "You can set `force_col_wise=true` to remove the overhead.\n",
            "[LightGBM] [Info] Total Bins 100072\n",
            "[LightGBM] [Info] Number of data points in the train set: 6482, number of used features: 449\n",
            "[LightGBM] [Info] Start training from score 143119.423635\n",
            "[LightGBM] [Info] Auto-choosing col-wise multi-threading, the overhead of testing was 0.039990 seconds.\n",
            "You can set `force_col_wise=true` to remove the overhead.\n",
            "[LightGBM] [Info] Total Bins 100075\n",
            "[LightGBM] [Info] Number of data points in the train set: 6482, number of used features: 449\n",
            "[LightGBM] [Info] Start training from score 142811.102592\n",
            "[LightGBM] [Info] Auto-choosing col-wise multi-threading, the overhead of testing was 0.048560 seconds.\n",
            "You can set `force_col_wise=true` to remove the overhead.\n",
            "[LightGBM] [Info] Total Bins 100069\n",
            "[LightGBM] [Info] Number of data points in the train set: 6482, number of used features: 449\n",
            "[LightGBM] [Info] Start training from score 143113.164455\n",
            "[LightGBM] [Info] Auto-choosing col-wise multi-threading, the overhead of testing was 0.044240 seconds.\n",
            "You can set `force_col_wise=true` to remove the overhead.\n",
            "[LightGBM] [Info] Total Bins 100072\n",
            "[LightGBM] [Info] Number of data points in the train set: 6483, number of used features: 448\n",
            "[LightGBM] [Info] Start training from score 143692.313744\n",
            "[LightGBM] [Info] Auto-choosing col-wise multi-threading, the overhead of testing was 0.048927 seconds.\n",
            "You can set `force_col_wise=true` to remove the overhead.\n",
            "[LightGBM] [Info] Total Bins 100072\n",
            "[LightGBM] [Info] Number of data points in the train set: 6483, number of used features: 448\n",
            "[LightGBM] [Info] Start training from score 142490.976863\n",
            "\n",
            "📊 Cross-Validation Metrics for LightGBM:\n",
            "Mean MAE    : 15084.58\n",
            "MAE Std     : 916.18\n",
            "Mean MSE    : 2568564279.39\n",
            "Mean RMSE   : 47935.74\n",
            "Mean R²     : 0.95\n"
          ]
        }
      ],
      "source": [
        "# Advanced Models\n",
        "advanced_models = {\n",
        "    \"XGBoost\": XGBRegressor(n_estimators=100, n_jobs=-1, random_state=42),\n",
        "    \"LightGBM\": LGBMRegressor(n_estimators=100, n_jobs=-1, random_state=42),\n",
        "}\n",
        "\n",
        "# Evaluate Advanced Models\n",
        "for model_name, model in advanced_models.items():\n",
        "    evaluate_model(model_name, model)"
      ]
    },
    {
      "cell_type": "markdown",
      "id": "e9a124c9",
      "metadata": {
        "id": "e9a124c9"
      },
      "source": [
        "### Hyperparameter Tuning\n",
        "Based on our baseline modelling and advanced modelling, RandomForest, XGBoost and LightGBM were the top performers based on Mean MAE, Mean MSE and Mean R^2.\n",
        "\n",
        "Thus, in the following section, we will be tuning the hyperparameter for our RandomForest, XGBoost and LightGBM model to improve their performance.\n"
      ]
    },
    {
      "cell_type": "code",
      "execution_count": null,
      "id": "85bd15f5",
      "metadata": {
        "id": "85bd15f5"
      },
      "outputs": [],
      "source": [
        "# Random Forest parameter grid\n",
        "rf_params = {\n",
        "    'n_estimators': [100, 200],\n",
        "    'max_depth': [None, 10, 20],\n",
        "    'max_features': ['sqrt', 'log2'],\n",
        "    'min_samples_split': [2, 5],\n",
        "}\n",
        "\n",
        "# XGBoost paramter grid\n",
        "xgb_params = {\n",
        "    'n_estimators': [100, 200, 300],\n",
        "    'learning_rate': [0.01, 0.05, 0.1],\n",
        "    'max_depth': [3, 5, 7, 10],\n",
        "    'subsample': [0.6, 0.8, 1.0],\n",
        "    'colsample_bytree': [0.6, 0.8, 1.0],\n",
        "    'reg_alpha': [0, 0.1, 1],\n",
        "    'reg_lambda': [1, 1.5, 2]\n",
        "}\n",
        "\n",
        "# LightGBM parameter grid\n",
        "lgbm_params = {\n",
        "    'n_estimators': [100, 200],\n",
        "    'learning_rate': [0.05, 0.1],\n",
        "    'num_leaves': [31, 50, 100],\n",
        "    'max_depth': [-1, 5, 10],\n",
        "    'min_child_samples': [5, 20, 50],\n",
        "    'feature_fraction': [0.8, 0.9, 1.0],\n",
        "    'force_col_wise': [True],\n",
        "}"
      ]
    },
    {
      "cell_type": "code",
      "execution_count": null,
      "id": "315f5786",
      "metadata": {
        "colab": {
          "background_save": true,
          "base_uri": "https://localhost:8080/"
        },
        "id": "315f5786",
        "outputId": "a44d81bc-3b2e-4b67-9aef-755ffeeeebcf"
      },
      "outputs": [
        {
          "name": "stdout",
          "output_type": "stream",
          "text": [
            "Fitting 5 folds for each of 24 candidates, totalling 120 fits\n",
            "Random Forest Best MAE: 27867.638711370946\n",
            "Best Params: {'n_estimators': 200, 'min_samples_split': 2, 'max_features': 'sqrt', 'max_depth': None}\n"
          ]
        }
      ],
      "source": [
        "# Random Forest\n",
        "rf_random = RandomizedSearchCV(\n",
        "    RandomForestRegressor(random_state=42),\n",
        "    param_distributions=rf_params,\n",
        "    n_iter=24,\n",
        "    scoring='neg_mean_absolute_error',\n",
        "    cv=5,\n",
        "    n_jobs=-1,\n",
        "    verbose=1,\n",
        "    random_state=42\n",
        ")\n",
        "\n",
        "rf_random.fit(X_train, y_train)\n",
        "print(\"Random Forest Best MAE:\", -rf_random.best_score_)\n",
        "print(\"Best Params:\", rf_random.best_params_)"
      ]
    },
    {
      "cell_type": "code",
      "execution_count": null,
      "id": "ce880bb4",
      "metadata": {
        "colab": {
          "base_uri": "https://localhost:8080/"
        },
        "id": "ce880bb4",
        "outputId": "ccf0e58e-26ac-486f-fa17-7612901aec9f"
      },
      "outputs": [
        {
          "name": "stdout",
          "output_type": "stream",
          "text": [
            "Fitting 5 folds for each of 30 candidates, totalling 150 fits\n",
            "XGBoost Best MAE: 13954.3681640625\n",
            "Best Params: {'subsample': 0.6, 'reg_lambda': 2, 'reg_alpha': 1, 'n_estimators': 300, 'max_depth': 7, 'learning_rate': 0.1, 'colsample_bytree': 0.8}\n"
          ]
        }
      ],
      "source": [
        "# XGBoost\n",
        "xgb = XGBRegressor(\n",
        "    objective='reg:squarederror',\n",
        "    random_state=42,\n",
        "    n_jobs=-1\n",
        ")\n",
        "\n",
        "xgb_random = RandomizedSearchCV(\n",
        "    estimator=xgb,\n",
        "    param_distributions=xgb_params,\n",
        "    n_iter=30,\n",
        "    scoring='neg_mean_absolute_error',\n",
        "    cv=5,\n",
        "    verbose=1,\n",
        "    n_jobs=-1,\n",
        "    random_state=42\n",
        ")\n",
        "\n",
        "xgb_random.fit(X_train, y_train)\n",
        "print(\"XGBoost Best MAE:\", -xgb_random.best_score_)\n",
        "print(\"Best Params:\", xgb_random.best_params_)"
      ]
    },
    {
      "cell_type": "code",
      "execution_count": null,
      "id": "3dd00ca1",
      "metadata": {
        "colab": {
          "base_uri": "https://localhost:8080/"
        },
        "id": "3dd00ca1",
        "outputId": "da87a265-4a87-4296-cce4-88dccc16d126"
      },
      "outputs": [
        {
          "name": "stdout",
          "output_type": "stream",
          "text": [
            "Fitting 5 folds for each of 30 candidates, totalling 150 fits\n",
            "[LightGBM] [Warning] feature_fraction is set=0.8, colsample_bytree=1.0 will be ignored. Current value: feature_fraction=0.8\n",
            "[LightGBM] [Warning] feature_fraction is set=0.8, colsample_bytree=1.0 will be ignored. Current value: feature_fraction=0.8\n",
            "[LightGBM] [Info] Total Bins 100086\n",
            "[LightGBM] [Info] Number of data points in the train set: 8103, number of used features: 455\n",
            "[LightGBM] [Info] Start training from score 143045.399111\n",
            "LightGBM Best MAE: 14322.580870803466\n",
            "Best Params: {'num_leaves': 31, 'n_estimators': 200, 'min_child_samples': 5, 'max_depth': 10, 'learning_rate': 0.1, 'force_col_wise': True, 'feature_fraction': 0.8}\n"
          ]
        }
      ],
      "source": [
        "# LightGBM\n",
        "lgbm_random = RandomizedSearchCV(\n",
        "    LGBMRegressor(random_state=42),\n",
        "    lgbm_params,\n",
        "    n_iter=30,\n",
        "    scoring='neg_mean_absolute_error',\n",
        "    cv=5,\n",
        "    n_jobs=-1,\n",
        "    verbose=1,\n",
        "    random_state=42\n",
        ")\n",
        "\n",
        "lgbm_random.fit(X_train, y_train)\n",
        "print(\"LightGBM Best MAE:\", -lgbm_random.best_score_)\n",
        "print(\"Best Params:\", lgbm_random.best_params_)\n"
      ]
    },
    {
      "cell_type": "markdown",
      "id": "ec893bf0",
      "metadata": {
        "id": "ec893bf0"
      },
      "source": [
        "### Final Model Evaluation\n",
        "\n",
        "Since the tuned XGBoost model achieved the best results, we will use it as the deployed model for our prediction app. Below, we retrain it with the best hyperparameters and evaluate its performance."
      ]
    },
    {
      "cell_type": "code",
      "execution_count": null,
      "id": "e6ac1e2d",
      "metadata": {
        "colab": {
          "base_uri": "https://localhost:8080/"
        },
        "id": "e6ac1e2d",
        "outputId": "6dd59084-7140-4d07-b4ab-e7eb7a5af63d"
      },
      "outputs": [
        {
          "name": "stdout",
          "output_type": "stream",
          "text": [
            "📊 Final Evaluation on Test Set:\n",
            "MAE  : 11199.87\n",
            "MSE  : 862499264.00\n",
            "RMSE : 29368.34\n",
            "R²   : 0.9789\n"
          ]
        }
      ],
      "source": [
        "tuned_xgb = XGBRegressor(\n",
        "    objective='reg:squarederror',\n",
        "    subsample=0.6,\n",
        "    reg_lambda=2,\n",
        "    reg_alpha=1,\n",
        "    n_estimators=300,\n",
        "    max_depth=7,\n",
        "    learning_rate=0.1,\n",
        "    colsample_bytree=0.8,\n",
        "    random_state=42,\n",
        "    n_jobs=-1\n",
        ")\n",
        "\n",
        "tuned_xgb.fit(X_train, y_train)\n",
        "y_pred = tuned_xgb.predict(X_test)\n",
        "\n",
        "mae = mean_absolute_error(y_test, y_pred)\n",
        "mse = mean_squared_error(y_test, y_pred)\n",
        "rmse = np.sqrt(mse)\n",
        "r2 = r2_score(y_test, y_pred)\n",
        "\n",
        "print(\"📊 Final Evaluation on Test Set:\")\n",
        "print(f\"MAE  : {mae:.2f}\")\n",
        "print(f\"MSE  : {mse:.2f}\")\n",
        "print(f\"RMSE : {rmse:.2f}\")\n",
        "print(f\"R²   : {r2:.4f}\")"
      ]
    },
    {
      "cell_type": "code",
      "execution_count": null,
      "id": "e57f882a",
      "metadata": {
        "colab": {
          "base_uri": "https://localhost:8080/",
          "height": 472
        },
        "id": "e57f882a",
        "outputId": "4206a2e1-d8ef-41a2-9acb-456b4beea3ab"
      },
      "outputs": [
        {
          "data": {
            "image/png": "[encoded data removed]",
            "text/plain": [
              "<Figure size 640x480 with 1 Axes>"
            ]
          },
          "metadata": {},
          "output_type": "display_data"
        }
      ],
      "source": [
        "# Scatter plot to visualise model perfomance\n",
        "plt.scatter(y_test, y_pred, alpha=0.3)\n",
        "plt.xlabel(\"Actual Price\")\n",
        "plt.ylabel(\"Predicted Price\")\n",
        "plt.title(\"Actual vs Predicted Car Prices\")\n",
        "plt.plot([y_test.min(), y_test.max()], [y_test.min(), y_test.max()], color='red')\n",
        "plt.show()"
      ]
    }
  ],
  "metadata": {
    "colab": {
      "provenance": []
    },
    "kernelspec": {
      "display_name": "Python 3",
      "name": "python3"
    },
    "language_info": {
      "name": "python"
    }
  },
  "nbformat": 4,
  "nbformat_minor": 5
}