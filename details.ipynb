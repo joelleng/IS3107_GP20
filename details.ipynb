{
 "cells": [
  {
   "cell_type": "code",
   "execution_count": 1,
   "metadata": {},
   "outputs": [],
   "source": [
    "import pandas as pd"
   ]
  },
  {
   "cell_type": "code",
   "execution_count": 2,
   "metadata": {},
   "outputs": [],
   "source": [
    "df = pd.read_csv('new_cars.csv')"
   ]
  },
  {
   "cell_type": "code",
   "execution_count": null,
   "metadata": {},
   "outputs": [
    {
     "name": "stdout",
     "output_type": "stream",
     "text": [
      "{'Mercedes-Benz': 81, 'Toyota': 64, 'BMW': 54, 'Audi Past Cars': 40, 'Honda': 35, 'Porsche': 28, 'Mercedes-Benz Past Cars': 19, 'Volkswagen': 17, 'Nissan': 16, 'Rolls-Royce': 15, 'Lexus': 14, 'Land Rover': 14, 'BMW Past Cars': 13, 'MINI Past Cars': 13, 'Bentley': 12, 'Audi': 12, 'Mazda': 12, 'Ferrari': 11, 'Hyundai': 11, 'MINI': 11, 'BYD': 11, 'Maxus': 10, 'Toyota Past Cars': 10, 'Maserati': 10, 'Volvo': 9, 'Skoda': 8, 'Golden Dragon': 8, 'Peugeot Past Cars': 8, 'Suzuki': 7, 'Aston Martin': 7, 'SEAT Past Cars': 7, 'MG': 7, 'Kia': 7, 'McLaren': 6, 'Citroen': 6, 'Suzuki Past Cars': 6, 'Volkswagen Past Cars': 6, 'Opel': 6, 'Honda Past Cars': 6, 'Foton': 5, 'Land Rover Past Cars': 5, 'Lamborghini': 5, 'Subaru Past Cars': 5, 'DFSK': 5, 'Jeep Past Cars': 5, 'Maserati Past Cars': 4, 'Volvo Past Cars': 4, 'Skoda Past Cars': 4, 'Jaguar': 4, 'Aston Martin Past Cars': 4, 'Ford': 4, 'Kia Past Cars': 4, 'Opel Past Cars': 4, 'Aion': 4, 'Jeep': 4, 'BMW ALPINA': 3, 'Mazda Past Cars': 3, 'Higer': 3, 'Isuzu': 3, 'SOKON': 3, 'Perodua': 3, 'Ferrari Past Cars': 3, 'Alfa Romeo': 3, 'Hino': 3, 'Lexus Past Cars': 3, 'Hyundai Past Cars': 3, 'Lotus': 3, 'Polestar': 3, 'smart': 3, 'Subaru': 3, 'McLaren Past Cars': 3, 'Joylong': 2, 'BYD Past Cars': 2, 'SANY': 2, 'Peugeot': 2, 'ZEEKR': 2, 'Lamborghini Past Cars': 2, 'Citroen Past Cars': 2, 'KYC': 2, 'Morgan': 2, 'XPENG': 2, 'Jaecoo': 2, 'Renault Past Cars': 2, 'Tesla': 2, 'Victory': 2, 'CUPRA Past Cars': 2, 'Cupra': 2, 'Yutong': 2, 'Tesla Past Cars': 2, 'Shineray Past Cars': 2, 'ORA': 2, 'Farizon': 2, 'Renault': 2, 'NETA': 2, 'Porsche Past Cars': 2, 'SsangYong Past Cars': 2, 'Chevrolet': 1, 'Mitsubishi Past Cars': 1, 'Alpine': 1, 'smart Past Cars': 1, 'LEVC': 1, 'Maxus Past Cars': 1, 'Fiat Past Cars': 1, 'Seres': 1, 'OHM': 1, 'BAC': 1, 'Omoda': 1, 'Skyworth': 1, 'Pagani': 1, 'Bentley Past Cars': 1, 'DENZA': 1, 'SsangYong': 1, 'Mitsuoka': 1, 'Golden Dragon Past Cars': 1, 'Deepal': 1, 'Mitsubishi': 1, 'Ford Past Cars': 1, 'Nissan Past Cars': 1, 'BMW ALPINA Past Cars': 1, 'Dongfeng': 1, 'SRM': 1, 'Jaguar Past Cars': 1}\n"
     ]
    }
   ],
   "source": []
  },
  {
   "cell_type": "code",
   "execution_count": null,
   "metadata": {},
   "outputs": [],
   "source": []
  }
 ],
 "metadata": {
  "kernelspec": {
   "display_name": "Python 3",
   "language": "python",
   "name": "python3"
  },
  "language_info": {
   "codemirror_mode": {
    "name": "ipython",
    "version": 3
   },
   "file_extension": ".py",
   "mimetype": "text/x-python",
   "name": "python",
   "nbconvert_exporter": "python",
   "pygments_lexer": "ipython3",
   "version": "3.10.6"
  }
 },
 "nbformat": 4,
 "nbformat_minor": 2
}
